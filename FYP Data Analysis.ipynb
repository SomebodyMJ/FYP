{
 "cells": [
  {
   "cell_type": "code",
   "execution_count": 1,
   "id": "026ea359",
   "metadata": {},
   "outputs": [],
   "source": [
    "# Basic Libraries\n",
    "import numpy as np\n",
    "import pandas as pd"
   ]
  },
  {
   "cell_type": "code",
   "execution_count": 2,
   "id": "1df8a06c",
   "metadata": {},
   "outputs": [
    {
     "data": {
      "text/html": [
       "<div>\n",
       "<style scoped>\n",
       "    .dataframe tbody tr th:only-of-type {\n",
       "        vertical-align: middle;\n",
       "    }\n",
       "\n",
       "    .dataframe tbody tr th {\n",
       "        vertical-align: top;\n",
       "    }\n",
       "\n",
       "    .dataframe thead th {\n",
       "        text-align: right;\n",
       "    }\n",
       "</style>\n",
       "<table border=\"1\" class=\"dataframe\">\n",
       "  <thead>\n",
       "    <tr style=\"text-align: right;\">\n",
       "      <th></th>\n",
       "      <th>0</th>\n",
       "      <th>1</th>\n",
       "      <th>2</th>\n",
       "      <th>3</th>\n",
       "      <th>4</th>\n",
       "      <th>5</th>\n",
       "      <th>6</th>\n",
       "    </tr>\n",
       "  </thead>\n",
       "  <tbody>\n",
       "    <tr>\n",
       "      <th>0</th>\n",
       "      <td>NaN</td>\n",
       "      <td>Events</td>\n",
       "      <td>conflict</td>\n",
       "      <td>link</td>\n",
       "      <td>conflict of interest links</td>\n",
       "      <td>issues if any</td>\n",
       "      <td>does code works</td>\n",
       "    </tr>\n",
       "    <tr>\n",
       "      <th>1</th>\n",
       "      <td>1.0</td>\n",
       "      <td>AAAI</td>\n",
       "      <td>no</td>\n",
       "      <td>https://aaai.org/aaai-24-conference/aaai-24-ca...</td>\n",
       "      <td>NaN</td>\n",
       "      <td>NaN</td>\n",
       "      <td>NaN</td>\n",
       "    </tr>\n",
       "    <tr>\n",
       "      <th>2</th>\n",
       "      <td>2.0</td>\n",
       "      <td>IJCAI</td>\n",
       "      <td>no</td>\n",
       "      <td>https://ijcai24.org/call-for-papers/</td>\n",
       "      <td>NaN</td>\n",
       "      <td>NaN</td>\n",
       "      <td>NaN</td>\n",
       "    </tr>\n",
       "    <tr>\n",
       "      <th>3</th>\n",
       "      <td>3.0</td>\n",
       "      <td>CVPR</td>\n",
       "      <td>no</td>\n",
       "      <td>https://cvpr.thecvf.com/Conferences/2024/CallF...</td>\n",
       "      <td>NaN</td>\n",
       "      <td>NaN</td>\n",
       "      <td>NaN</td>\n",
       "    </tr>\n",
       "    <tr>\n",
       "      <th>4</th>\n",
       "      <td>4.0</td>\n",
       "      <td>ECCV</td>\n",
       "      <td>yes</td>\n",
       "      <td>https://eccv.ecva.net/Conferences/2024/CallFor...</td>\n",
       "      <td>https://eccv.ecva.net/Conferences/2024/Submiss...</td>\n",
       "      <td>called as conflict responibilites and is in pa...</td>\n",
       "      <td>no</td>\n",
       "    </tr>\n",
       "  </tbody>\n",
       "</table>\n",
       "</div>"
      ],
      "text/plain": [
       "     0       1         2                                                  3  \\\n",
       "0  NaN  Events  conflict                                               link   \n",
       "1  1.0    AAAI       no   https://aaai.org/aaai-24-conference/aaai-24-ca...   \n",
       "2  2.0   IJCAI       no                https://ijcai24.org/call-for-papers/   \n",
       "3  3.0    CVPR       no   https://cvpr.thecvf.com/Conferences/2024/CallF...   \n",
       "4  4.0    ECCV       yes  https://eccv.ecva.net/Conferences/2024/CallFor...   \n",
       "\n",
       "                                                   4  \\\n",
       "0                         conflict of interest links   \n",
       "1                                                NaN   \n",
       "2                                                NaN   \n",
       "3                                                NaN   \n",
       "4  https://eccv.ecva.net/Conferences/2024/Submiss...   \n",
       "\n",
       "                                                   5                6  \n",
       "0                                      issues if any  does code works  \n",
       "1                                                NaN              NaN  \n",
       "2                                                NaN              NaN  \n",
       "3                                                NaN              NaN  \n",
       "4  called as conflict responibilites and is in pa...               no  "
      ]
     },
     "execution_count": 2,
     "metadata": {},
     "output_type": "execute_result"
    }
   ],
   "source": [
    "# Basic Libraries\n",
    "import numpy as np\n",
    "import pandas as pd\n",
    "\n",
    "\n",
    "csv_data = pd.read_csv('EventList.csv', header = None)\n",
    "csv_data.head()"
   ]
  },
  {
   "cell_type": "code",
   "execution_count": 3,
   "id": "963b9ff0",
   "metadata": {},
   "outputs": [
    {
     "data": {
      "text/html": [
       "<div>\n",
       "<style scoped>\n",
       "    .dataframe tbody tr th:only-of-type {\n",
       "        vertical-align: middle;\n",
       "    }\n",
       "\n",
       "    .dataframe tbody tr th {\n",
       "        vertical-align: top;\n",
       "    }\n",
       "\n",
       "    .dataframe thead th {\n",
       "        text-align: right;\n",
       "    }\n",
       "</style>\n",
       "<table border=\"1\" class=\"dataframe\">\n",
       "  <thead>\n",
       "    <tr style=\"text-align: right;\">\n",
       "      <th></th>\n",
       "      <th>No</th>\n",
       "      <th>Event</th>\n",
       "      <th>Conflict</th>\n",
       "      <th>Link</th>\n",
       "      <th>Conflict of Interest Link</th>\n",
       "      <th>Issues</th>\n",
       "      <th>Code</th>\n",
       "    </tr>\n",
       "  </thead>\n",
       "  <tbody>\n",
       "    <tr>\n",
       "      <th>0</th>\n",
       "      <td>1.0</td>\n",
       "      <td>AAAI</td>\n",
       "      <td>no</td>\n",
       "      <td>https://aaai.org/aaai-24-conference/aaai-24-ca...</td>\n",
       "      <td>NaN</td>\n",
       "      <td>NaN</td>\n",
       "      <td>NaN</td>\n",
       "    </tr>\n",
       "    <tr>\n",
       "      <th>1</th>\n",
       "      <td>2.0</td>\n",
       "      <td>IJCAI</td>\n",
       "      <td>no</td>\n",
       "      <td>https://ijcai24.org/call-for-papers/</td>\n",
       "      <td>NaN</td>\n",
       "      <td>NaN</td>\n",
       "      <td>NaN</td>\n",
       "    </tr>\n",
       "    <tr>\n",
       "      <th>2</th>\n",
       "      <td>3.0</td>\n",
       "      <td>CVPR</td>\n",
       "      <td>no</td>\n",
       "      <td>https://cvpr.thecvf.com/Conferences/2024/CallF...</td>\n",
       "      <td>NaN</td>\n",
       "      <td>NaN</td>\n",
       "      <td>NaN</td>\n",
       "    </tr>\n",
       "    <tr>\n",
       "      <th>3</th>\n",
       "      <td>4.0</td>\n",
       "      <td>ECCV</td>\n",
       "      <td>yes</td>\n",
       "      <td>https://eccv.ecva.net/Conferences/2024/CallFor...</td>\n",
       "      <td>https://eccv.ecva.net/Conferences/2024/Submiss...</td>\n",
       "      <td>called as conflict responibilites and is in pa...</td>\n",
       "      <td>no</td>\n",
       "    </tr>\n",
       "    <tr>\n",
       "      <th>4</th>\n",
       "      <td>5.0</td>\n",
       "      <td>ICCV</td>\n",
       "      <td>no</td>\n",
       "      <td>https://waset.org/computer-vision-conference-i...</td>\n",
       "      <td></td>\n",
       "      <td>NaN</td>\n",
       "      <td>NaN</td>\n",
       "    </tr>\n",
       "  </tbody>\n",
       "</table>\n",
       "</div>"
      ],
      "text/plain": [
       "    No  Event Conflict                                               Link  \\\n",
       "0  1.0   AAAI      no   https://aaai.org/aaai-24-conference/aaai-24-ca...   \n",
       "1  2.0  IJCAI      no                https://ijcai24.org/call-for-papers/   \n",
       "2  3.0   CVPR      no   https://cvpr.thecvf.com/Conferences/2024/CallF...   \n",
       "3  4.0   ECCV      yes  https://eccv.ecva.net/Conferences/2024/CallFor...   \n",
       "4  5.0   ICCV      no   https://waset.org/computer-vision-conference-i...   \n",
       "\n",
       "                           Conflict of Interest Link  \\\n",
       "0                                                NaN   \n",
       "1                                                NaN   \n",
       "2                                                NaN   \n",
       "3  https://eccv.ecva.net/Conferences/2024/Submiss...   \n",
       "4                                                      \n",
       "\n",
       "                                              Issues Code  \n",
       "0                                                NaN  NaN  \n",
       "1                                                NaN  NaN  \n",
       "2                                                NaN  NaN  \n",
       "3  called as conflict responibilites and is in pa...   no  \n",
       "4                                                NaN  NaN  "
      ]
     },
     "execution_count": 3,
     "metadata": {},
     "output_type": "execute_result"
    }
   ],
   "source": [
    "csv_data.columns = ['No', 'Event', 'Conflict', 'Link', 'Conflict of Interest Link', 'Issues', 'Code']\n",
    "csv_data = csv_data.drop(0)\n",
    "\n",
    "# Reset the index (optional)\n",
    "csv_data.reset_index(drop=True, inplace=True)\n",
    "\n",
    "\n",
    "csv_data.head()"
   ]
  },
  {
   "cell_type": "code",
   "execution_count": 4,
   "id": "ccdff678",
   "metadata": {},
   "outputs": [
    {
     "data": {
      "text/html": [
       "<div>\n",
       "<style scoped>\n",
       "    .dataframe tbody tr th:only-of-type {\n",
       "        vertical-align: middle;\n",
       "    }\n",
       "\n",
       "    .dataframe tbody tr th {\n",
       "        vertical-align: top;\n",
       "    }\n",
       "\n",
       "    .dataframe thead th {\n",
       "        text-align: right;\n",
       "    }\n",
       "</style>\n",
       "<table border=\"1\" class=\"dataframe\">\n",
       "  <thead>\n",
       "    <tr style=\"text-align: right;\">\n",
       "      <th></th>\n",
       "      <th>No</th>\n",
       "      <th>Event</th>\n",
       "      <th>Conflict</th>\n",
       "      <th>Link</th>\n",
       "      <th>Conflict of Interest Link</th>\n",
       "      <th>Issues</th>\n",
       "      <th>Code</th>\n",
       "    </tr>\n",
       "  </thead>\n",
       "  <tbody>\n",
       "    <tr>\n",
       "      <th>0</th>\n",
       "      <td>1</td>\n",
       "      <td>AAAI</td>\n",
       "      <td>no</td>\n",
       "      <td>https://aaai.org/aaai-24-conference/aaai-24-ca...</td>\n",
       "      <td>NaN</td>\n",
       "      <td>NaN</td>\n",
       "      <td>NaN</td>\n",
       "    </tr>\n",
       "    <tr>\n",
       "      <th>1</th>\n",
       "      <td>2</td>\n",
       "      <td>IJCAI</td>\n",
       "      <td>no</td>\n",
       "      <td>https://ijcai24.org/call-for-papers/</td>\n",
       "      <td>NaN</td>\n",
       "      <td>NaN</td>\n",
       "      <td>NaN</td>\n",
       "    </tr>\n",
       "    <tr>\n",
       "      <th>2</th>\n",
       "      <td>3</td>\n",
       "      <td>CVPR</td>\n",
       "      <td>no</td>\n",
       "      <td>https://cvpr.thecvf.com/Conferences/2024/CallF...</td>\n",
       "      <td>NaN</td>\n",
       "      <td>NaN</td>\n",
       "      <td>NaN</td>\n",
       "    </tr>\n",
       "    <tr>\n",
       "      <th>3</th>\n",
       "      <td>4</td>\n",
       "      <td>ECCV</td>\n",
       "      <td>yes</td>\n",
       "      <td>https://eccv.ecva.net/Conferences/2024/CallFor...</td>\n",
       "      <td>https://eccv.ecva.net/Conferences/2024/Submiss...</td>\n",
       "      <td>called as conflict responibilites and is in pa...</td>\n",
       "      <td>no</td>\n",
       "    </tr>\n",
       "    <tr>\n",
       "      <th>4</th>\n",
       "      <td>5</td>\n",
       "      <td>ICCV</td>\n",
       "      <td>no</td>\n",
       "      <td>https://waset.org/computer-vision-conference-i...</td>\n",
       "      <td></td>\n",
       "      <td>NaN</td>\n",
       "      <td>NaN</td>\n",
       "    </tr>\n",
       "  </tbody>\n",
       "</table>\n",
       "</div>"
      ],
      "text/plain": [
       "   No  Event Conflict                                               Link  \\\n",
       "0   1   AAAI      no   https://aaai.org/aaai-24-conference/aaai-24-ca...   \n",
       "1   2  IJCAI      no                https://ijcai24.org/call-for-papers/   \n",
       "2   3   CVPR      no   https://cvpr.thecvf.com/Conferences/2024/CallF...   \n",
       "3   4   ECCV      yes  https://eccv.ecva.net/Conferences/2024/CallFor...   \n",
       "4   5   ICCV      no   https://waset.org/computer-vision-conference-i...   \n",
       "\n",
       "                           Conflict of Interest Link  \\\n",
       "0                                                NaN   \n",
       "1                                                NaN   \n",
       "2                                                NaN   \n",
       "3  https://eccv.ecva.net/Conferences/2024/Submiss...   \n",
       "4                                                      \n",
       "\n",
       "                                              Issues Code  \n",
       "0                                                NaN  NaN  \n",
       "1                                                NaN  NaN  \n",
       "2                                                NaN  NaN  \n",
       "3  called as conflict responibilites and is in pa...   no  \n",
       "4                                                NaN  NaN  "
      ]
     },
     "execution_count": 4,
     "metadata": {},
     "output_type": "execute_result"
    }
   ],
   "source": [
    "csv_data['No'] = csv_data['No'].astype(int)\n",
    "\n",
    "csv_data.head()"
   ]
  },
  {
   "cell_type": "code",
   "execution_count": 5,
   "id": "97777c0e",
   "metadata": {},
   "outputs": [
    {
     "data": {
      "text/html": [
       "<div>\n",
       "<style scoped>\n",
       "    .dataframe tbody tr th:only-of-type {\n",
       "        vertical-align: middle;\n",
       "    }\n",
       "\n",
       "    .dataframe tbody tr th {\n",
       "        vertical-align: top;\n",
       "    }\n",
       "\n",
       "    .dataframe thead th {\n",
       "        text-align: right;\n",
       "    }\n",
       "</style>\n",
       "<table border=\"1\" class=\"dataframe\">\n",
       "  <thead>\n",
       "    <tr style=\"text-align: right;\">\n",
       "      <th></th>\n",
       "      <th>0</th>\n",
       "      <th>1</th>\n",
       "      <th>2</th>\n",
       "    </tr>\n",
       "  </thead>\n",
       "  <tbody>\n",
       "    <tr>\n",
       "      <th>0</th>\n",
       "      <td>URL</td>\n",
       "      <td>Status</td>\n",
       "      <td>Conflict of Interest</td>\n",
       "    </tr>\n",
       "    <tr>\n",
       "      <th>1</th>\n",
       "      <td>https://2024.sigmod.org/calls_awards.docx</td>\n",
       "      <td>0</td>\n",
       "      <td>Error during search</td>\n",
       "    </tr>\n",
       "    <tr>\n",
       "      <th>2</th>\n",
       "      <td>https://iticse.acm.org/2024/call-for-papers/</td>\n",
       "      <td>0</td>\n",
       "      <td>Error during search</td>\n",
       "    </tr>\n",
       "    <tr>\n",
       "      <th>3</th>\n",
       "      <td>https://kdd2024.kdd.org/research-track-call-fo...</td>\n",
       "      <td>1</td>\n",
       "      <td>candidate for employment at the same instituti...</td>\n",
       "    </tr>\n",
       "    <tr>\n",
       "      <th>4</th>\n",
       "      <td>https://kdd2024.kdd.org/research-track-call-fo...</td>\n",
       "      <td>1</td>\n",
       "      <td>co-author on book/paper or co-PI on a funded g...</td>\n",
       "    </tr>\n",
       "  </tbody>\n",
       "</table>\n",
       "</div>"
      ],
      "text/plain": [
       "                                                   0       1  \\\n",
       "0                                                URL  Status   \n",
       "1          https://2024.sigmod.org/calls_awards.docx       0   \n",
       "2       https://iticse.acm.org/2024/call-for-papers/       0   \n",
       "3  https://kdd2024.kdd.org/research-track-call-fo...       1   \n",
       "4  https://kdd2024.kdd.org/research-track-call-fo...       1   \n",
       "\n",
       "                                                   2  \n",
       "0                               Conflict of Interest  \n",
       "1                                Error during search  \n",
       "2                                Error during search  \n",
       "3  candidate for employment at the same instituti...  \n",
       "4  co-author on book/paper or co-PI on a funded g...  "
      ]
     },
     "execution_count": 5,
     "metadata": {},
     "output_type": "execute_result"
    }
   ],
   "source": [
    "csv_data_scrape = pd.read_csv('Data(final).csv', header = None)\n",
    "csv_data_scrape.head()"
   ]
  },
  {
   "cell_type": "code",
   "execution_count": 6,
   "id": "171f47fe",
   "metadata": {},
   "outputs": [
    {
     "data": {
      "text/html": [
       "<div>\n",
       "<style scoped>\n",
       "    .dataframe tbody tr th:only-of-type {\n",
       "        vertical-align: middle;\n",
       "    }\n",
       "\n",
       "    .dataframe tbody tr th {\n",
       "        vertical-align: top;\n",
       "    }\n",
       "\n",
       "    .dataframe thead th {\n",
       "        text-align: right;\n",
       "    }\n",
       "</style>\n",
       "<table border=\"1\" class=\"dataframe\">\n",
       "  <thead>\n",
       "    <tr style=\"text-align: right;\">\n",
       "      <th></th>\n",
       "      <th>URL</th>\n",
       "      <th>Status</th>\n",
       "      <th>Conflict of Interest</th>\n",
       "    </tr>\n",
       "  </thead>\n",
       "  <tbody>\n",
       "    <tr>\n",
       "      <th>0</th>\n",
       "      <td>https://2024.sigmod.org/calls_awards.docx</td>\n",
       "      <td>0</td>\n",
       "      <td>Error during search</td>\n",
       "    </tr>\n",
       "    <tr>\n",
       "      <th>1</th>\n",
       "      <td>https://iticse.acm.org/2024/call-for-papers/</td>\n",
       "      <td>0</td>\n",
       "      <td>Error during search</td>\n",
       "    </tr>\n",
       "    <tr>\n",
       "      <th>2</th>\n",
       "      <td>https://kdd2024.kdd.org/research-track-call-fo...</td>\n",
       "      <td>1</td>\n",
       "      <td>candidate for employment at the same instituti...</td>\n",
       "    </tr>\n",
       "    <tr>\n",
       "      <th>3</th>\n",
       "      <td>https://kdd2024.kdd.org/research-track-call-fo...</td>\n",
       "      <td>1</td>\n",
       "      <td>co-author on book/paper or co-PI on a funded g...</td>\n",
       "    </tr>\n",
       "    <tr>\n",
       "      <th>4</th>\n",
       "      <td>https://kdd2024.kdd.org/research-track-call-fo...</td>\n",
       "      <td>1</td>\n",
       "      <td>active collaborator</td>\n",
       "    </tr>\n",
       "  </tbody>\n",
       "</table>\n",
       "</div>"
      ],
      "text/plain": [
       "                                                 URL Status  \\\n",
       "0          https://2024.sigmod.org/calls_awards.docx      0   \n",
       "1       https://iticse.acm.org/2024/call-for-papers/      0   \n",
       "2  https://kdd2024.kdd.org/research-track-call-fo...      1   \n",
       "3  https://kdd2024.kdd.org/research-track-call-fo...      1   \n",
       "4  https://kdd2024.kdd.org/research-track-call-fo...      1   \n",
       "\n",
       "                                Conflict of Interest  \n",
       "0                                Error during search  \n",
       "1                                Error during search  \n",
       "2  candidate for employment at the same instituti...  \n",
       "3  co-author on book/paper or co-PI on a funded g...  \n",
       "4                                active collaborator  "
      ]
     },
     "execution_count": 6,
     "metadata": {},
     "output_type": "execute_result"
    }
   ],
   "source": [
    "csv_data_scrape.columns = ['URL', 'Status', 'Conflict of Interest']\n",
    "csv_data_scrape = csv_data_scrape.drop(0)\n",
    "\n",
    "# Reset the index (optional)\n",
    "csv_data_scrape.reset_index(drop=True, inplace=True)\n",
    "\n",
    "\n",
    "csv_data_scrape.head()"
   ]
  },
  {
   "cell_type": "code",
   "execution_count": 7,
   "id": "73fa5259",
   "metadata": {},
   "outputs": [
    {
     "name": "stdout",
     "output_type": "stream",
     "text": [
      "{'https://www.sigarch.org/call-participation/gem5-bootcamp-2024/', 'https://neurips.cc/Conferences/2024/CallForDatasetsBenchmarks', 'https://blog.neurips.cc/2024/04/15/announcing-the-neurips-2024-call-for-tutorials/#', 'https://www.sigarch.org/call-contributions/student-research-competition-pact-2024/', 'https://www.sigarch.org/call-contributions/isc-high-performance-2024-call-for-tutorials/', 'https://crypto.iacr.org/2024/callforpapers.php', 'https://neurips.cc/Conferences/2024/CallForAffinityEvents#child-menu', 'https://neurips.cc/Conferences/2024/CallForWorkshops#child-menu', 'https://www.sigarch.org/call-participation/hpca-2024/', 'https://www.sigarch.org/call-contributions/cogarch-2024-the-8th-workshop-on-cognitive-architectures/', 'https://www.sigarch.org/call-participation/iccd-2024/#', 'https://iticse.acm.org/2024/call-for-posters/', 'https://iclr.cc/Conferences/2024/CallForSocials', 'https://neurips.cc/Conferences/2024/CallForCreativeAI#child-menu', 'https://www.sigarch.org/call-contributions/ics-2024/', 'https://www.sigarch.org/call-participation/i2q-isca-2024/', 'https://www.sigarch.org/call-contributions/host-2024/', 'https://www.sigarch.org/call-contributions/biosys-2024-in-conjunction-with-asplos-2024/', 'https://kdd2024.kdd.org/call-for-kdd-cup-proposals/', 'https://neurips.cc/Conferences/2024/CallForPapers#', 'https://www.sigarch.org/call-contributions/arc-2024/', 'https://www.sigarch.org/call-contributions/hotcarbon-2024/', 'https://neurips.cc/Conferences/2024/CallForCompetitions#', 'https://www.sigarch.org/call-participation/memory-centric-computing-systems-isca-2024/', 'https://neurips.cc/Conferences/2024/CallForCreativeAI', 'https://iticse.acm.org/2024/call-for-participation/', 'https://neurips.cc/Conferences/2024/CallForPapers#main', 'https://www.sigarch.org/call-participation/seed-2024/', 'https://kdd2024.kdd.org/research-track-call-for-papers/', 'https://neurips.cc/Conferences/2024/CallForWorkshops#main', 'https://iticse.acm.org/2024/call-for-tips-techniques-and-courseware/', 'https://neurips.cc/Conferences/2024/CallForEthicsReviewers', 'https://www.sigarch.org/call-contributions/seed-2024-wild-and-emerging-ideas-wei/', 'https://neurips.cc/Conferences/2024/CallForEthicsReviewers#', 'https://www.sigarch.org/call-participation/memory-centric-computing-systems-tutorial-micro-2024/', 'https://blog.neurips.cc/2024/04/15/announcing-the-neurips-2024-call-for-tutorials/#mobile-menu', 'https://www.sigarch.org/call-contributions/micro-2024-call-for-workshops-tutorials/', 'https://crypto.iacr.org/2024/callforaffiliated.php', 'https://sigcse.org/news/2024-08-Call-for-nominations-for-the-SIGCSE-Board.html#', 'https://2024.sigmod.org/calls_papers_inclusion_and_diversity.shtml', 'https://crypto.iacr.org/2024/callforartifacts.php', 'https://iclr.cc/Conferences/2024/CallForPapers', 'https://neurips.cc/Conferences/2024/CallforSocials#child-menu', 'https://neurips.cc/Conferences/2024/CallForCompetitions#child-menu', 'https://www.sigarch.org/call-participation/fpga-2024/', 'https://neurips.cc/Conferences/2024/CallforHighSchoolProjects#', 'https://iticse.acm.org/2024/call-for-working-groups/', 'https://www.sigarch.org/call-contributions/ispass-2024-call-for-posters/', 'https://www.sigarch.org/call-contributions/cams-2024-the-2nd-workshop-on-computer-architecture-modeling-and-simulation/', 'https://www.sigarch.org/call-participation/asplos-2024/', 'https://www.sigarch.org/call-contributions/workshop-on-hot-topics-in-system-infrastructure-hotinfra-sosp-2024/', 'https://neurips.cc/Conferences/2024/CallForCompetitions#main', 'https://tcc.iacr.org/2024/callforpapers.php', 'https://2024.sigmod.org/calls_sigmod_tutorials.shtml', 'https://www.sigarch.org/call-contributions/pact-2024-call-for-workshops-tutorials/', 'https://www.aies-conference.com/2024/call-for-papers-students/', 'https://www.sigops.org/2024/call-for-participation-apsys-2024/', 'https://www.sigarch.org/call-contributions/hardware-and-architectural-support-for-security-and-privacy-hasp-2024/', 'https://neurips.cc/Conferences/2024/CallForExpo', 'https://kdd2024.kdd.org/call-for-award-nominations/', 'https://www.sigarch.org/call-participation/ispass-2024/', 'https://www.sigarch.org/call-contributions/esweek-2024/', 'https://2024.sigmod.org/calls_workshops.shtml', 'https://2024.sigmod.org/calls_papers_pods_research.shtml', 'https://blog.neurips.cc/2024/03/03/neurips-2024-call-for-competitions/#mobile-menu', 'https://www.sigarch.org/call-contributions/iiswc-2024-2/', 'https://neurips.cc/Conferences/2024/CallForPapers', 'https://blog.neurips.cc/2024/03/03/neurips-2024-call-for-competitions/', 'https://www.sigarch.org/call-participation/isfpga-2024/', 'https://iticse.acm.org/2024/call-for-panels/', 'https://www.sigarch.org/call-participation/isca-2024-call-for-workshops-tutorials/', 'https://blog.neurips.cc/2024/04/15/announcing-the-neurips-2024-call-for-tutorials/#content', 'https://iclr.cc/Conferences/2024/CallForBlogPosts', 'https://www.sigops.org/2024/call-for-participation-apsys-2024/#content', 'https://www.sigarch.org/call-contributions/isca-2024-industry-track/', 'https://2024.sigmod.org/calls_industrial_track_papers.shtml', 'https://neurips.cc/Conferences/2024/CallForTutorials#child-menu', 'https://2024.sigmod.org/calls_papers_important_dates.shtml', 'https://iticse.acm.org/2024/call-for-papers/', 'https://www.sigarch.org/call-contributions/hpca-2024-industry-track/', 'https://neurips.cc/Conferences/2024/CallForExpo#', 'https://neurips.cc/Conferences/2024/CallForExpo#main', 'https://www.sigarch.org/call-participation/iiswc-2024/', 'https://neurips.cc/Conferences/2024/CallForWorkshops#', 'https://www.sigarch.org/call-contributions/call-for-papers-arc-lg2024-new-approaches-for-addressing-the-computing-requirements-of-llms-and-gnns/', 'https://www.sigarch.org/call-participation/isca-2024-buenos-aires-argentina-june-29-july-3/', 'https://www.sigarch.org/call-contributions/hpca-2024-call-for-workshops-tutorials/', 'https://neurips.cc/Conferences/2024/CallForDatasetsBenchmarks#', 'https://www.sigarch.org/call-contributions/ieee-micro-special-issue-on-top-picks-from-the-2024-computer-architecture-conferences/', 'https://www.sigarch.org/call-participation/nvmw-2024/', 'https://2024.sigmod.org/calls_papers_sigmod_research.shtml', 'https://www.sigarch.org/call-contributions/fpga-2024/', 'https://iclr.cc/Conferences/2024/CallForWorkshops', 'https://2024.sigmod.org/calls_sigmod_demos.shtml', 'https://nips.cc/Conferences/2024/CallForPapers', 'https://neurips.cc/Conferences/2024/CallForTutorials#main', 'https://blog.neurips.cc/2024/04/15/announcing-the-neurips-2024-call-for-tutorials/#header', 'https://neurips.cc/Conferences/2024/CallForExpo#child-menu', 'https://www.sigarch.org/call-contributions/paw-atm-2024-parallel-applications-workshop-alternatives-to-mpix/', 'https://www.sigarch.org/call-contributions/isc-high-performance-2024-call-for-tutorials-2/', 'https://neurips.cc/Conferences/2024/CallforSocials', 'https://www.sigarch.org/call-participation/arcs-2024/', 'https://neurips.cc/Conferences/2024/CallforSocials#', 'https://www.sigarch.org/call-contributions/hpca-2024/', 'https://neurips.cc/Conferences/2024/CallForEthicsReviewers#main', 'https://blog.neurips.cc/2024/03/03/neurips-2024-call-for-competitions/#', 'https://www.sigarch.org/call-contributions/wddsa-micro-2024/', 'https://neurips.cc/Conferences/2024/CallForAffinityEvents#main', 'https://neurips.cc/Conferences/2024/CallForDatasetsBenchmarks#main', 'https://neurips.cc/Conferences/2024/CallforHighSchoolProjects#main', 'https://kdd2024.kdd.org/applied-data-science-ads-track-call-for-papers/', 'https://blog.neurips.cc/2024/03/03/neurips-2024-call-for-competitions/#content', 'https://www.sigarch.org/call-contributions/phd-forum-micro-2024/', 'https://www.sigarch.org/call-contributions/nocarc-micro-2024/', 'https://www.aies-conference.com/2024/call-for-student-travel-awards/', 'https://asiacrypt.iacr.org/2024/callforpapers.php', 'https://www.sigarch.org/call-contributions/acm-international-symposium-on-memory-management-ismm-2024/', 'https://neurips.cc/Conferences/2024/CallForCreativeAI#main', 'https://www.sigarch.org/call-contributions/arcs-2024-cfp-hpc-challenges-for-sustainable-computing/', 'https://www.sigarch.org/call-contributions/ispass-2024/', 'https://kdd2024.kdd.org/call-for-undergraduate-consortium/', 'https://blog.neurips.cc/2024/03/03/neurips-2024-call-for-competitions/#header', 'https://www.sigarch.org/call-contributions/systor-2024/', 'https://neurips.cc/Conferences/2024/CallforSocials#main', 'https://neurips.cc/Conferences/2024/CallForAffinityEvents#', 'https://neurips.cc/Conferences/2024/CallForDatasetsBenchmarks#child-menu', 'https://www.sigarch.org/call-contributions/roboarch-micro-2024/', 'https://neurips.cc/Conferences/2024/CallForWorkshops', 'https://www.sigarch.org/call-participation/call-for-participation-biosys-2024-in-conjunction-with-asplos-2024/', 'https://www.sigarch.org/call-participation/iccd-2024/', 'https://www.sigarch.org/other-announcements/call-for-nominations-micro-test-of-time-award-2024/#', 'https://www.aies-conference.com/2024/call-for-papers/', 'https://neurips.cc/Conferences/2024/CallForCompetitions', 'https://neurips.cc/Conferences/2024/CallForTutorials', 'https://www.sigarch.org/call-participation/esweek-2024/', 'https://www.sigarch.org/call-contributions/iiswc-2024/', 'https://kdd2024.kdd.org/call-for-workshop-proposals/', 'https://sigcse.org/news/2024-08-Call-for-nominations-for-the-SIGCSE-Board.html#Top', 'https://www.sigarch.org/call-contributions/fccm-2024/', 'https://blog.neurips.cc/2024/04/15/announcing-the-neurips-2024-call-for-tutorials/', 'https://kdd2024.kdd.org/call-for-student-travel-award-applications/', 'https://www.sigarch.org/call-participation/memory-centric-computing-systems-tutorial-micro-2024/#', 'https://chameleoncloud.org/blog/2024/09/25/call-for-presentations-community-workshop-on-practical-reproducibility-in-hpc/', 'https://neurips.cc/Conferences/2024/CallForTutorials#', 'https://www.sigarch.org/call-contributions/iccd-2024-call-for-papers/', 'https://www.sigarch.org/call-contributions/isca-2024/', 'https://www.sigarch.org/call-contributions/workshop-on-accelerated-machine-learning-hipeac-2024/', 'https://www.sigarch.org/call-participation/esweek-2024/#', 'https://www.sigarch.org/call-contributions/asap-2024/', 'https://2024.sigmod.org/calls_awards.docx', 'https://neurips.cc/Conferences/2024/CallForPapers#child-menu', 'https://neurips.cc/Conferences/2024/CallForEthicsReviewers#child-menu', 'https://www.sigarch.org/call-contributions/pact-2024/', 'https://www.sigarch.org/other-announcements/call-for-nominations-micro-test-of-time-award-2024/', 'https://www.sigarch.org/call-contributions/heart-2024/', 'https://www.sigarch.org/call-contributions/heterogeneous-high-performance-reconfigurable-computing-h2rc-2024/', 'https://neurips.cc/Conferences/2024/CallforHighSchoolProjects', 'https://www.sigarch.org/call-contributions/cfp-deadline-extended-17-nov-2023-6th-accml-workshop-at-hipeac-2024/', 'https://neurips.cc/Conferences/2024/CallForCreativeAI#', 'https://kdd2024.kdd.org/call-for-lecture-style-tutorials/', 'https://www.sigarch.org/call-participation/iiswc-2024/#', 'https://iclr.cc/Conferences/2024/CallForTinyPapers', 'https://www.sigarch.org/call-contributions/ieee-micro-special-issue-on-top-picks-from-the-2024-computer-architecture-conferences/#', 'https://kdd2024.kdd.org/call-for-phd-consortium/', 'https://www.sigarch.org/call-contributions/nsf-workshop-on-quantum-operating-systems-and-real-time-control-sosp-2024-and-micro-2024/', 'https://www.sigarch.org/call-contributions/hipc-2024/', 'https://neurips.cc/Conferences/2024/CallforHighSchoolProjects#child-menu', 'https://neurips.cc/Conferences/2024/CallForAffinityEvents', 'https://kdd2024.kdd.org/call-for-hands-on-tutorials/'}\n"
     ]
    }
   ],
   "source": [
    "# Extract the 'URL' column as a list and convert it to a set\n",
    "url_set = set(csv_data_scrape['URL'])\n",
    "\n",
    "# Display the set\n",
    "print(url_set)"
   ]
  },
  {
   "cell_type": "code",
   "execution_count": 8,
   "id": "cff7449c",
   "metadata": {},
   "outputs": [
    {
     "name": "stdout",
     "output_type": "stream",
     "text": [
      "{'https://eccv.ecva.net/Conferences/2024/CallForPapers', 'https://www.sigmobile.org/mobicom/2024/cfp.html', 'https://2024.emnlp.org/calls/main_conference_papers/', 'https://2024.splashcon.org/track/splash-2024-oopsla#Call-for-Papers', 'https://2024.sigmod.org/calls_papers_sigmod_research.shtml', 'https://2024.esec-fse.org/track/fse-2024-research-papers?#Call-for-Papers', 'https://conf.researchr.org/track/ase-2024/ase-2024-research', 'https://crypto.iacr.org/2024/callforpapers.php', 'https://www.asplos-conference.org/asplos2024/cfp/index.html', 'https://www.hpdc.org/2024/calls-cfp.html', 'https://i-cav.org/2024/call-for-papers/', 'https://ijcai24.org/call-for-papers/', 'https://sp2024.ieee-security.org/cfpapers.html', 'https://cvpr.thecvf.com/Conferences/2024/CallForPapers ', 'https://sensys.acm.org/2024/cfp/', 'https://acm-stoc.org/stoc2024/stoc2024-cfp.html', 'https://s2024.siggraph.org/program/technical-papers/', 'https://esweek.org/emsoft-call-for-papers-page/', 'https://2024.naacl.org/calls/papers/', 'https://www.usenix.org/conference/fast24/call-for-papers', 'https://sigops.org/s/conferences/sosp/2024/cfw.html', 'https://eurocrypt.iacr.org/2024/callforpapers.php', 'https://2024.ieee-icra.org/contribute/#Call-for-Contributions', 'https://conferences.sigcomm.org/sigcomm/2024/cfp/', 'https://lics.siglog.org/lics24/cfp.php', 'https://sigcse2024.sigcse.org/track/sigcse-ts-2024-Papers-1#Instructions-for-Authors', 'https://icom-icdad.org/icdad-2024-annual-conference-call-for-papers-dwelling-design-and-the-decorative-arts', 'https://waset.org/computer-vision-conference-in-september-2024-in-vancouver?utm_source=conferenceindex&utm_medium=referral&utm_campaign=listing', 'https://www.sigsac.org/ccs/CCS2024/call-for/call-for-papers.html', 'https://www.dac.com/Conference/2024-Call-for-Contributions', 'https://ec24.sigecom.org/call-for-contributions-acm/papers/', 'https://chi2024.acm.org/for-authors/papers/', 'https://www.aria.org/assets/docs/RTS_CFP_2024.pdf', 'https://2024.aclweb.org/calls/main_conference_papers/', 'https://ieeevis.org/year/2024/info/call-participation/call-for-participation', 'https://www.usenix.org/conference/nsdi24/call-for-papers', 'https://microarch.org/micro57/submit/papers.php', 'https://www.ics.org/2024/abstracts/abstractsubmissionrules', 'https://2024.eurosys.org/cfp.html', 'https://2024.issta.org/track/issta-2024-papers#Call-for-Papers', 'https://www.iscb.org/ismb2024/submissions/abstracts', 'https://icml.cc/Conferences/2024/CallForPapers', 'https://sigir-2024.github.io/call_for_papers.html', 'https://recomb.org/recomb2024/call_for_papers.html', 'https://asia.siggraph.org/2024/submissions/technical-papers/', 'https://roboticsconference.org/information/cfp/', 'https://www.usenix.org/conference/usenixsecurity24/call-for-papers', 'https://vldb.org/2024/?call-for-industrial-track', 'https://www2024.thewebconf.org/calls/research-tracks/', 'https://2024.sigmod.org/calls_papers_pods_research.shtml', 'https://pldi24.sigplan.org/track/pldi-2024-papers#Call-for-Papers', 'https://ieeevr.org/2024/contribute/papers/', 'https://neurips.cc/Conferences/2024/CallForPapers', 'https://icfp24.sigplan.org/track/icfp-2024-papers?#Call-for-Papers', 'https://aaai.org/aaai-24-conference/aaai-24-call-for-proposals/', 'https://2024.rtas.org/call-for-papers/', 'https://www.usenix.org/conference/osdi24/call-for-papers', 'https://www.ubicomp.org/ubicomp-iswc-2024/authors/', 'cant find it', 'https://www.academic-conferences.org/conferences/ictr/', 'https://uist.acm.org/2024/cfp/', 'https://conf.researchr.org/track/icse-2024/icse-2024-research-track?#Call-for-papers', 'https://kdd2024.kdd.org/research-track-call-for-papers/', 'https://icde2024.github.io/CFP_research.html', 'https://www.sigmobile.org/mobisys/2024/cfp.html', 'https://www.sigmetrics.org/sigmetrics2024/call_for_papers.html', 'https://focs.computer.org/2024/call-for-papers/', 'https://dastlab.github.io/edbticdt2024/?contents=EDBT_CFP.html', 'https://iros2024-abudhabi.org/cf-contribution', 'https://iscs2024.ncuindia.edu/call-for-papers/', 'https://conferences.sigcomm.org/imc/2024/', 'https://wine2024.org/#call-for-papers', 'https://www.usenix.org/conference/atc24/call-for-papers', 'https://popl24.sigplan.org/track/POPL-2024-popl-research-papers#POPL-2024-Call-for-Papers'}\n"
     ]
    }
   ],
   "source": [
    "# Extract the 'URL' column as a list and convert it to a set\n",
    "List_set = set(csv_data['Link'])\n",
    "\n",
    "# Display the set\n",
    "print(List_set)"
   ]
  },
  {
   "cell_type": "code",
   "execution_count": 7,
   "id": "3eb31583",
   "metadata": {},
   "outputs": [],
   "source": [
    "# Extract the 'URL' column from CSV_data_scrape as a list and convert it to a set\n",
    "url_set = set(csv_data_scrape['URL'])\n",
    "\n",
    "# Extract the 'Link' column from CSV_data as a list and convert it to a set\n",
    "List_set = set(csv_data['Link'])\n"
   ]
  },
  {
   "cell_type": "code",
   "execution_count": 22,
   "id": "e6c75695",
   "metadata": {
    "scrolled": false
   },
   "outputs": [
    {
     "name": "stdout",
     "output_type": "stream",
     "text": [
      "Number of common elements: 5\n",
      "Common elements: {'https://kdd2024.kdd.org/research-track-call-for-papers/', 'https://crypto.iacr.org/2024/callforpapers.php', 'https://2024.sigmod.org/calls_papers_sigmod_research.shtml', 'https://2024.sigmod.org/calls_papers_pods_research.shtml', 'https://neurips.cc/Conferences/2024/CallForPapers'}\n",
      "\n",
      "Number only in List_set: 69\n",
      "Only in List_set: {'https://eccv.ecva.net/Conferences/2024/CallForPapers', 'https://www.sigmobile.org/mobicom/2024/cfp.html', 'https://2024.emnlp.org/calls/main_conference_papers/', 'https://2024.splashcon.org/track/splash-2024-oopsla#Call-for-Papers', 'https://2024.esec-fse.org/track/fse-2024-research-papers?#Call-for-Papers', 'https://conf.researchr.org/track/ase-2024/ase-2024-research', 'https://i-cav.org/2024/call-for-papers/', 'https://www.asplos-conference.org/asplos2024/cfp/index.html', 'https://www.hpdc.org/2024/calls-cfp.html', 'https://sensys.acm.org/2024/cfp/', 'https://ijcai24.org/call-for-papers/', 'https://sp2024.ieee-security.org/cfpapers.html', 'https://cvpr.thecvf.com/Conferences/2024/CallForPapers ', 'https://acm-stoc.org/stoc2024/stoc2024-cfp.html', 'https://s2024.siggraph.org/program/technical-papers/', 'https://esweek.org/emsoft-call-for-papers-page/', 'https://2024.naacl.org/calls/papers/', 'https://www.usenix.org/conference/fast24/call-for-papers', 'https://sigops.org/s/conferences/sosp/2024/cfw.html', 'https://eurocrypt.iacr.org/2024/callforpapers.php', 'https://2024.ieee-icra.org/contribute/#Call-for-Contributions', 'https://conferences.sigcomm.org/sigcomm/2024/cfp/', 'https://lics.siglog.org/lics24/cfp.php', 'https://sigcse2024.sigcse.org/track/sigcse-ts-2024-Papers-1#Instructions-for-Authors', 'https://icom-icdad.org/icdad-2024-annual-conference-call-for-papers-dwelling-design-and-the-decorative-arts', 'https://waset.org/computer-vision-conference-in-september-2024-in-vancouver?utm_source=conferenceindex&utm_medium=referral&utm_campaign=listing', 'https://www.sigsac.org/ccs/CCS2024/call-for/call-for-papers.html', 'https://www.dac.com/Conference/2024-Call-for-Contributions', 'https://ec24.sigecom.org/call-for-contributions-acm/papers/', 'https://chi2024.acm.org/for-authors/papers/', 'https://www.aria.org/assets/docs/RTS_CFP_2024.pdf', 'https://2024.aclweb.org/calls/main_conference_papers/', 'https://ieeevis.org/year/2024/info/call-participation/call-for-participation', 'https://www.usenix.org/conference/nsdi24/call-for-papers', 'https://microarch.org/micro57/submit/papers.php', 'https://www.ics.org/2024/abstracts/abstractsubmissionrules', 'https://2024.eurosys.org/cfp.html', 'https://2024.issta.org/track/issta-2024-papers#Call-for-Papers', 'https://www.iscb.org/ismb2024/submissions/abstracts', 'https://icml.cc/Conferences/2024/CallForPapers', 'https://sigir-2024.github.io/call_for_papers.html', 'https://recomb.org/recomb2024/call_for_papers.html', 'https://asia.siggraph.org/2024/submissions/technical-papers/', 'https://roboticsconference.org/information/cfp/', 'https://www.usenix.org/conference/usenixsecurity24/call-for-papers', 'https://vldb.org/2024/?call-for-industrial-track', 'https://www2024.thewebconf.org/calls/research-tracks/', 'https://pldi24.sigplan.org/track/pldi-2024-papers#Call-for-Papers', 'https://ieeevr.org/2024/contribute/papers/', 'https://icfp24.sigplan.org/track/icfp-2024-papers?#Call-for-Papers', 'https://aaai.org/aaai-24-conference/aaai-24-call-for-proposals/', 'https://2024.rtas.org/call-for-papers/', 'https://www.usenix.org/conference/osdi24/call-for-papers', 'https://www.ubicomp.org/ubicomp-iswc-2024/authors/', 'cant find it', 'https://www.academic-conferences.org/conferences/ictr/', 'https://uist.acm.org/2024/cfp/', 'https://conf.researchr.org/track/icse-2024/icse-2024-research-track?#Call-for-papers', 'https://focs.computer.org/2024/call-for-papers/', 'https://icde2024.github.io/CFP_research.html', 'https://www.sigmobile.org/mobisys/2024/cfp.html', 'https://www.sigmetrics.org/sigmetrics2024/call_for_papers.html', 'https://iros2024-abudhabi.org/cf-contribution', 'https://dastlab.github.io/edbticdt2024/?contents=EDBT_CFP.html', 'https://iscs2024.ncuindia.edu/call-for-papers/', 'https://conferences.sigcomm.org/imc/2024/', 'https://wine2024.org/#call-for-papers', 'https://www.usenix.org/conference/atc24/call-for-papers', 'https://popl24.sigplan.org/track/POPL-2024-popl-research-papers#POPL-2024-Call-for-Papers'}\n",
      "\n",
      "Number only in URL_set: 164\n",
      "Only in URL_set: {'https://www.sigarch.org/call-participation/gem5-bootcamp-2024/', 'https://neurips.cc/Conferences/2024/CallForDatasetsBenchmarks', 'https://blog.neurips.cc/2024/04/15/announcing-the-neurips-2024-call-for-tutorials/#', 'https://www.sigarch.org/call-contributions/student-research-competition-pact-2024/', 'https://www.sigarch.org/call-contributions/isc-high-performance-2024-call-for-tutorials/', 'https://neurips.cc/Conferences/2024/CallForAffinityEvents#child-menu', 'https://neurips.cc/Conferences/2024/CallForWorkshops#child-menu', 'https://www.sigarch.org/call-participation/hpca-2024/', 'https://www.sigarch.org/call-contributions/cogarch-2024-the-8th-workshop-on-cognitive-architectures/', 'https://www.sigarch.org/call-participation/iccd-2024/#', 'https://iticse.acm.org/2024/call-for-posters/', 'https://iclr.cc/Conferences/2024/CallForSocials', 'https://neurips.cc/Conferences/2024/CallForCreativeAI#child-menu', 'https://www.sigarch.org/call-contributions/ics-2024/', 'https://www.sigarch.org/call-participation/i2q-isca-2024/', 'https://www.sigarch.org/call-contributions/host-2024/', 'https://www.sigarch.org/call-contributions/biosys-2024-in-conjunction-with-asplos-2024/', 'https://kdd2024.kdd.org/call-for-kdd-cup-proposals/', 'https://neurips.cc/Conferences/2024/CallForPapers#', 'https://www.sigarch.org/call-contributions/arc-2024/', 'https://www.sigarch.org/call-contributions/hotcarbon-2024/', 'https://neurips.cc/Conferences/2024/CallForCompetitions#', 'https://www.sigarch.org/call-participation/memory-centric-computing-systems-isca-2024/', 'https://neurips.cc/Conferences/2024/CallForCreativeAI', 'https://iticse.acm.org/2024/call-for-participation/', 'https://neurips.cc/Conferences/2024/CallForPapers#main', 'https://www.sigarch.org/call-participation/seed-2024/', 'https://neurips.cc/Conferences/2024/CallForWorkshops#main', 'https://iticse.acm.org/2024/call-for-tips-techniques-and-courseware/', 'https://neurips.cc/Conferences/2024/CallForEthicsReviewers', 'https://www.sigarch.org/call-contributions/seed-2024-wild-and-emerging-ideas-wei/', 'https://www.sigarch.org/call-participation/memory-centric-computing-systems-tutorial-micro-2024/', 'https://neurips.cc/Conferences/2024/CallForEthicsReviewers#', 'https://blog.neurips.cc/2024/04/15/announcing-the-neurips-2024-call-for-tutorials/#mobile-menu', 'https://www.sigarch.org/call-contributions/micro-2024-call-for-workshops-tutorials/', 'https://crypto.iacr.org/2024/callforaffiliated.php', 'https://sigcse.org/news/2024-08-Call-for-nominations-for-the-SIGCSE-Board.html#', 'https://2024.sigmod.org/calls_papers_inclusion_and_diversity.shtml', 'https://crypto.iacr.org/2024/callforartifacts.php', 'https://iclr.cc/Conferences/2024/CallForPapers', 'https://neurips.cc/Conferences/2024/CallforSocials#child-menu', 'https://neurips.cc/Conferences/2024/CallForCompetitions#child-menu', 'https://www.sigarch.org/call-participation/fpga-2024/', 'https://neurips.cc/Conferences/2024/CallforHighSchoolProjects#', 'https://iticse.acm.org/2024/call-for-working-groups/', 'https://www.sigarch.org/call-contributions/ispass-2024-call-for-posters/', 'https://www.sigarch.org/call-contributions/cams-2024-the-2nd-workshop-on-computer-architecture-modeling-and-simulation/', 'https://www.sigarch.org/call-participation/asplos-2024/', 'https://www.sigarch.org/call-contributions/workshop-on-hot-topics-in-system-infrastructure-hotinfra-sosp-2024/', 'https://neurips.cc/Conferences/2024/CallForCompetitions#main', 'https://tcc.iacr.org/2024/callforpapers.php', 'https://2024.sigmod.org/calls_sigmod_tutorials.shtml', 'https://www.sigarch.org/call-contributions/pact-2024-call-for-workshops-tutorials/', 'https://www.aies-conference.com/2024/call-for-papers-students/', 'https://www.sigops.org/2024/call-for-participation-apsys-2024/', 'https://www.sigarch.org/call-contributions/hardware-and-architectural-support-for-security-and-privacy-hasp-2024/', 'https://neurips.cc/Conferences/2024/CallForExpo', 'https://kdd2024.kdd.org/call-for-award-nominations/', 'https://www.sigarch.org/call-participation/ispass-2024/', 'https://www.sigarch.org/call-contributions/esweek-2024/', 'https://2024.sigmod.org/calls_workshops.shtml', 'https://blog.neurips.cc/2024/03/03/neurips-2024-call-for-competitions/#mobile-menu', 'https://www.sigarch.org/call-contributions/iiswc-2024-2/', 'https://www.sigarch.org/call-participation/isfpga-2024/', 'https://blog.neurips.cc/2024/03/03/neurips-2024-call-for-competitions/', 'https://iticse.acm.org/2024/call-for-panels/', 'https://www.sigarch.org/call-participation/isca-2024-call-for-workshops-tutorials/', 'https://blog.neurips.cc/2024/04/15/announcing-the-neurips-2024-call-for-tutorials/#content', 'https://iclr.cc/Conferences/2024/CallForBlogPosts', 'https://www.sigops.org/2024/call-for-participation-apsys-2024/#content', 'https://www.sigarch.org/call-contributions/isca-2024-industry-track/', 'https://2024.sigmod.org/calls_industrial_track_papers.shtml', 'https://neurips.cc/Conferences/2024/CallForTutorials#child-menu', 'https://2024.sigmod.org/calls_papers_important_dates.shtml', 'https://iticse.acm.org/2024/call-for-papers/', 'https://www.sigarch.org/call-contributions/hpca-2024-industry-track/', 'https://neurips.cc/Conferences/2024/CallForExpo#', 'https://neurips.cc/Conferences/2024/CallForExpo#main', 'https://www.sigarch.org/call-participation/iiswc-2024/', 'https://neurips.cc/Conferences/2024/CallForWorkshops#', 'https://www.sigarch.org/call-contributions/call-for-papers-arc-lg2024-new-approaches-for-addressing-the-computing-requirements-of-llms-and-gnns/', 'https://www.sigarch.org/call-participation/isca-2024-buenos-aires-argentina-june-29-july-3/', 'https://www.sigarch.org/call-contributions/hpca-2024-call-for-workshops-tutorials/', 'https://neurips.cc/Conferences/2024/CallForDatasetsBenchmarks#', 'https://www.sigarch.org/call-contributions/ieee-micro-special-issue-on-top-picks-from-the-2024-computer-architecture-conferences/', 'https://www.sigarch.org/call-participation/nvmw-2024/', 'https://www.sigarch.org/call-contributions/fpga-2024/', 'https://iclr.cc/Conferences/2024/CallForWorkshops', 'https://2024.sigmod.org/calls_sigmod_demos.shtml', 'https://nips.cc/Conferences/2024/CallForPapers', 'https://neurips.cc/Conferences/2024/CallForTutorials#main', 'https://blog.neurips.cc/2024/04/15/announcing-the-neurips-2024-call-for-tutorials/#header', 'https://neurips.cc/Conferences/2024/CallForExpo#child-menu', 'https://www.sigarch.org/call-contributions/paw-atm-2024-parallel-applications-workshop-alternatives-to-mpix/', 'https://www.sigarch.org/call-contributions/isc-high-performance-2024-call-for-tutorials-2/', 'https://neurips.cc/Conferences/2024/CallforSocials', 'https://www.sigarch.org/call-participation/arcs-2024/', 'https://neurips.cc/Conferences/2024/CallforSocials#', 'https://www.sigarch.org/call-contributions/hpca-2024/', 'https://neurips.cc/Conferences/2024/CallForEthicsReviewers#main', 'https://blog.neurips.cc/2024/03/03/neurips-2024-call-for-competitions/#', 'https://www.sigarch.org/call-contributions/wddsa-micro-2024/', 'https://neurips.cc/Conferences/2024/CallForAffinityEvents#main', 'https://neurips.cc/Conferences/2024/CallForDatasetsBenchmarks#main', 'https://neurips.cc/Conferences/2024/CallforHighSchoolProjects#main', 'https://kdd2024.kdd.org/applied-data-science-ads-track-call-for-papers/', 'https://blog.neurips.cc/2024/03/03/neurips-2024-call-for-competitions/#content', 'https://www.sigarch.org/call-contributions/phd-forum-micro-2024/', 'https://www.sigarch.org/call-contributions/nocarc-micro-2024/', 'https://www.aies-conference.com/2024/call-for-student-travel-awards/', 'https://asiacrypt.iacr.org/2024/callforpapers.php', 'https://www.sigarch.org/call-contributions/acm-international-symposium-on-memory-management-ismm-2024/', 'https://neurips.cc/Conferences/2024/CallForCreativeAI#main', 'https://www.sigarch.org/call-contributions/arcs-2024-cfp-hpc-challenges-for-sustainable-computing/', 'https://www.sigarch.org/call-contributions/ispass-2024/', 'https://kdd2024.kdd.org/call-for-undergraduate-consortium/', 'https://blog.neurips.cc/2024/03/03/neurips-2024-call-for-competitions/#header', 'https://www.sigarch.org/call-contributions/systor-2024/', 'https://neurips.cc/Conferences/2024/CallforSocials#main', 'https://neurips.cc/Conferences/2024/CallForAffinityEvents#', 'https://neurips.cc/Conferences/2024/CallForDatasetsBenchmarks#child-menu', 'https://www.sigarch.org/call-contributions/roboarch-micro-2024/', 'https://neurips.cc/Conferences/2024/CallForWorkshops', 'https://www.sigarch.org/call-participation/call-for-participation-biosys-2024-in-conjunction-with-asplos-2024/', 'https://www.sigarch.org/call-participation/iccd-2024/', 'https://www.sigarch.org/other-announcements/call-for-nominations-micro-test-of-time-award-2024/#', 'https://www.aies-conference.com/2024/call-for-papers/', 'https://neurips.cc/Conferences/2024/CallForCompetitions', 'https://neurips.cc/Conferences/2024/CallForTutorials', 'https://www.sigarch.org/call-participation/esweek-2024/', 'https://www.sigarch.org/call-contributions/iiswc-2024/', 'https://kdd2024.kdd.org/call-for-workshop-proposals/', 'https://sigcse.org/news/2024-08-Call-for-nominations-for-the-SIGCSE-Board.html#Top', 'https://www.sigarch.org/call-contributions/fccm-2024/', 'https://blog.neurips.cc/2024/04/15/announcing-the-neurips-2024-call-for-tutorials/', 'https://kdd2024.kdd.org/call-for-student-travel-award-applications/', 'https://www.sigarch.org/call-participation/memory-centric-computing-systems-tutorial-micro-2024/#', 'https://chameleoncloud.org/blog/2024/09/25/call-for-presentations-community-workshop-on-practical-reproducibility-in-hpc/', 'https://neurips.cc/Conferences/2024/CallForTutorials#', 'https://www.sigarch.org/call-contributions/iccd-2024-call-for-papers/', 'https://www.sigarch.org/call-contributions/isca-2024/', 'https://www.sigarch.org/call-contributions/workshop-on-accelerated-machine-learning-hipeac-2024/', 'https://www.sigarch.org/call-participation/esweek-2024/#', 'https://www.sigarch.org/call-contributions/asap-2024/', 'https://2024.sigmod.org/calls_awards.docx', 'https://neurips.cc/Conferences/2024/CallForPapers#child-menu', 'https://neurips.cc/Conferences/2024/CallForEthicsReviewers#child-menu', 'https://www.sigarch.org/call-contributions/pact-2024/', 'https://www.sigarch.org/other-announcements/call-for-nominations-micro-test-of-time-award-2024/', 'https://www.sigarch.org/call-contributions/heart-2024/', 'https://www.sigarch.org/call-contributions/heterogeneous-high-performance-reconfigurable-computing-h2rc-2024/', 'https://neurips.cc/Conferences/2024/CallforHighSchoolProjects', 'https://www.sigarch.org/call-contributions/cfp-deadline-extended-17-nov-2023-6th-accml-workshop-at-hipeac-2024/', 'https://neurips.cc/Conferences/2024/CallForCreativeAI#', 'https://kdd2024.kdd.org/call-for-lecture-style-tutorials/', 'https://www.sigarch.org/call-participation/iiswc-2024/#', 'https://iclr.cc/Conferences/2024/CallForTinyPapers', 'https://www.sigarch.org/call-contributions/ieee-micro-special-issue-on-top-picks-from-the-2024-computer-architecture-conferences/#', 'https://kdd2024.kdd.org/call-for-phd-consortium/', 'https://www.sigarch.org/call-contributions/nsf-workshop-on-quantum-operating-systems-and-real-time-control-sosp-2024-and-micro-2024/', 'https://www.sigarch.org/call-contributions/hipc-2024/', 'https://neurips.cc/Conferences/2024/CallforHighSchoolProjects#child-menu', 'https://neurips.cc/Conferences/2024/CallForAffinityEvents', 'https://kdd2024.kdd.org/call-for-hands-on-tutorials/'}\n",
      "\n",
      "Number of common elements: 5\n",
      "\n",
      "Number of different elements: 233\n",
      "\n"
     ]
    }
   ],
   "source": [
    "# Find common elements (intersection)\n",
    "common_elements = List_set.intersection(url_set)\n",
    "\n",
    "# Find elements only in Link_set (difference)\n",
    "only_in_link_set = List_set.difference(url_set)\n",
    "\n",
    "# Find elements only in URL_set (difference)\n",
    "only_in_url_set = url_set.difference(List_set)\n",
    "\n",
    "# Display results\n",
    "print(f\"Number of common elements: {len(common_elements)}\")\n",
    "print(f\"Common elements: {common_elements}\")\n",
    "print(\"\")\n",
    "print(f\"Number only in List_set: {len(only_in_link_set)}\")\n",
    "#print(f\"Only in List_set: {only_in_link_set}\")\n",
    "print(\"\")\n",
    "print(f\"Number only in URL_set: {len(only_in_url_set)}\")\n",
    "#print(f\"Only in URL_set: {only_in_url_set}\")\n",
    "print(\"\")\n",
    "\n",
    "# Count of same and different elements\n",
    "print(f\"Number of common elements: {len(common_elements)}\")\n",
    "print(\"\")\n",
    "print(f\"Number of different elements: {len(only_in_link_set) + len(only_in_url_set)}\")\n",
    "print(\"\")"
   ]
  },
  {
   "cell_type": "code",
   "execution_count": null,
   "id": "de2f8f30",
   "metadata": {},
   "outputs": [],
   "source": [
    "# Extract the 'URL' column from CSV_data_scrape as a list and convert it to a set\n",
    "url_set = set(csv_data_scrape['URL'])\n",
    "\n",
    "# Extract the 'Link' column from CSV_data as a list and convert it to a set\n",
    "List_set = set(csv_data['Link'])"
   ]
  },
  {
   "cell_type": "code",
   "execution_count": 8,
   "id": "3a3fa54d",
   "metadata": {},
   "outputs": [
    {
     "name": "stdout",
     "output_type": "stream",
     "text": [
      "Number of common elements: 5\n",
      "Common elements: {'https://2024.sigmod.org/calls_papers_pods_research.shtml', 'https://crypto.iacr.org/2024/callforpapers.php', 'https://kdd2024.kdd.org/research-track-call-for-papers/', 'https://neurips.cc/Conferences/2024/CallForPapers', 'https://2024.sigmod.org/calls_papers_sigmod_research.shtml'}\n",
      "\n",
      "Number only in List_set: 69\n",
      "\n",
      "Number only in URL_set: 164\n",
      "\n",
      "Number of common elements: 5\n",
      "\n",
      "Number of different elements: 233\n",
      "\n"
     ]
    }
   ],
   "source": [
    "# Find common elements (intersection)\n",
    "common_elements = List_set.intersection(url_set)\n",
    "\n",
    "# Find elements only in Link_set (difference)\n",
    "only_in_link_set = List_set.difference(url_set)\n",
    "\n",
    "# Find elements only in URL_set (difference)\n",
    "only_in_url_set = url_set.difference(List_set)\n",
    "\n",
    "# Display results\n",
    "print(f\"Number of common elements: {len(common_elements)}\")\n",
    "print(f\"Common elements: {common_elements}\")\n",
    "print(\"\")\n",
    "print(f\"Number only in List_set: {len(only_in_link_set)}\")\n",
    "\n",
    "print(\"\")\n",
    "print(f\"Number only in URL_set: {len(only_in_url_set)}\")\n",
    "\n",
    "print(\"\")\n",
    "\n",
    "# Count of same and different elements\n",
    "print(f\"Number of common elements: {len(common_elements)}\")\n",
    "print(\"\")\n",
    "print(f\"Number of different elements: {len(only_in_link_set) + len(only_in_url_set)}\")\n",
    "print(\"\")"
   ]
  },
  {
   "cell_type": "code",
   "execution_count": 13,
   "id": "c4ab062d",
   "metadata": {},
   "outputs": [
    {
     "name": "stdout",
     "output_type": "stream",
     "text": [
      "{nan, 'https://neurips.cc/public/guides/ConflictsOfInterest', 'https://eccv.ecva.net/Conferences/2024/SubmissionPolicies', 'https://www.sigmobile.org/mobicom/2024/cfp.html', 'on another page that i cannot access to (need account)', 'https://2024.sigmod.org/calls_papers_sigmod_research.shtml', 'https://www.asplos-conference.org/asplos2024/cfp/index.html', 'https://sp2024.ieee-security.org/cfpapers.html', 'https://eurocrypt.iacr.org/2024/papersubmission.php', 'https://acm-stoc.org/stoc2024/stoc2024-cfp.html', ' ', 'https://www.usenix.org/conference/usenixsecurity24/submission-policies-and-instructions', 'https://www.usenix.org/conference/fast24/call-for-papers', 'https://sigops.org/s/conferences/sosp/2024/cfw.html', 'https://www.iacr.org/docs/conflicts.pdf', 'https://www.usenix.org/sites/default/files/atc24_cfp_010224.pdf', 'https://ec24.sigecom.org/call-for-contributions-acm/papers/', 'https://www.sigsac.org/ccs/CCS2024/call-for/call-for-papers.html', 'https://tc.computer.org/vgtc/conferences/ethics-guidelines/reviewer-ethics/', 'https://www.usenix.org/conference/nsdi24/call-for-papers', 'https://2024.eurosys.org/cfp.html', 'https://vldb.org/2024/?call-for-industrial-track', 'https://www2024.thewebconf.org/calls/research-tracks/', 'https://pldi24.sigplan.org/track/pldi-2024-papers#Call-for-Papers', 'https://microarch.org/micro57/submit/guidelines.php', 'https://www.usenix.org/conference/osdi24/call-for-papers', 'cant find it', 'https://kdd2024.kdd.org/research-track-call-for-papers/', 'https://icde2024.github.io/CFP_research.html', 'https://www.sigmobile.org/mobisys/2024/cfp.html', 'https://focs.computer.org/2024/call-for-papers/', 'https://dastlab.github.io/edbticdt2024/?contents=EDBT_CFP.html', 'https://wine2024.org/#call-for-papers', 'https://popl24.sigplan.org/track/POPL-2024-popl-research-papers#POPL-2024-Call-for-Papers'}\n"
     ]
    }
   ],
   "source": [
    "# Extract the 'URL' column as a list and convert it to a set\n",
    "List_set_1 = set(csv_data['Conflict of Interest Link'])\n",
    "\n",
    "# Display the set\n",
    "print(List_set_1)"
   ]
  },
  {
   "cell_type": "code",
   "execution_count": 14,
   "id": "15ef2c5e",
   "metadata": {},
   "outputs": [
    {
     "name": "stdout",
     "output_type": "stream",
     "text": [
      "Number of common elements: 2\n",
      "Common elements: {'https://2024.sigmod.org/calls_papers_sigmod_research.shtml', 'https://kdd2024.kdd.org/research-track-call-for-papers/'}\n",
      "\n",
      "Number only in List_set_1: 32\n",
      "Only in List_set_1: {nan, 'https://neurips.cc/public/guides/ConflictsOfInterest', 'https://eccv.ecva.net/Conferences/2024/SubmissionPolicies', 'https://www.sigmobile.org/mobicom/2024/cfp.html', 'on another page that i cannot access to (need account)', 'https://www.asplos-conference.org/asplos2024/cfp/index.html', 'https://sp2024.ieee-security.org/cfpapers.html', 'https://eurocrypt.iacr.org/2024/papersubmission.php', 'https://acm-stoc.org/stoc2024/stoc2024-cfp.html', ' ', 'https://www.usenix.org/conference/usenixsecurity24/submission-policies-and-instructions', 'https://www.usenix.org/conference/fast24/call-for-papers', 'https://sigops.org/s/conferences/sosp/2024/cfw.html', 'https://www.iacr.org/docs/conflicts.pdf', 'https://www.usenix.org/sites/default/files/atc24_cfp_010224.pdf', 'https://ec24.sigecom.org/call-for-contributions-acm/papers/', 'https://www.sigsac.org/ccs/CCS2024/call-for/call-for-papers.html', 'https://tc.computer.org/vgtc/conferences/ethics-guidelines/reviewer-ethics/', 'https://www.usenix.org/conference/nsdi24/call-for-papers', 'https://2024.eurosys.org/cfp.html', 'https://vldb.org/2024/?call-for-industrial-track', 'https://www2024.thewebconf.org/calls/research-tracks/', 'https://pldi24.sigplan.org/track/pldi-2024-papers#Call-for-Papers', 'https://microarch.org/micro57/submit/guidelines.php', 'https://www.usenix.org/conference/osdi24/call-for-papers', 'cant find it', 'https://focs.computer.org/2024/call-for-papers/', 'https://icde2024.github.io/CFP_research.html', 'https://www.sigmobile.org/mobisys/2024/cfp.html', 'https://dastlab.github.io/edbticdt2024/?contents=EDBT_CFP.html', 'https://wine2024.org/#call-for-papers', 'https://popl24.sigplan.org/track/POPL-2024-popl-research-papers#POPL-2024-Call-for-Papers'}\n",
      "\n",
      "Number only in URL_set: 167\n",
      "Only in URL_set: {'https://www.sigarch.org/call-participation/gem5-bootcamp-2024/', 'https://neurips.cc/Conferences/2024/CallForDatasetsBenchmarks', 'https://blog.neurips.cc/2024/04/15/announcing-the-neurips-2024-call-for-tutorials/#', 'https://www.sigarch.org/call-contributions/student-research-competition-pact-2024/', 'https://www.sigarch.org/call-contributions/isc-high-performance-2024-call-for-tutorials/', 'https://crypto.iacr.org/2024/callforpapers.php', 'https://neurips.cc/Conferences/2024/CallForAffinityEvents#child-menu', 'https://neurips.cc/Conferences/2024/CallForWorkshops#child-menu', 'https://www.sigarch.org/call-participation/hpca-2024/', 'https://www.sigarch.org/call-contributions/cogarch-2024-the-8th-workshop-on-cognitive-architectures/', 'https://www.sigarch.org/call-participation/iccd-2024/#', 'https://iticse.acm.org/2024/call-for-posters/', 'https://iclr.cc/Conferences/2024/CallForSocials', 'https://neurips.cc/Conferences/2024/CallForCreativeAI#child-menu', 'https://www.sigarch.org/call-contributions/ics-2024/', 'https://www.sigarch.org/call-participation/i2q-isca-2024/', 'https://www.sigarch.org/call-contributions/host-2024/', 'https://www.sigarch.org/call-contributions/biosys-2024-in-conjunction-with-asplos-2024/', 'https://kdd2024.kdd.org/call-for-kdd-cup-proposals/', 'https://neurips.cc/Conferences/2024/CallForPapers#', 'https://www.sigarch.org/call-contributions/arc-2024/', 'https://www.sigarch.org/call-contributions/hotcarbon-2024/', 'https://neurips.cc/Conferences/2024/CallForCompetitions#', 'https://www.sigarch.org/call-participation/memory-centric-computing-systems-isca-2024/', 'https://neurips.cc/Conferences/2024/CallForCreativeAI', 'https://iticse.acm.org/2024/call-for-participation/', 'https://neurips.cc/Conferences/2024/CallForPapers#main', 'https://www.sigarch.org/call-participation/seed-2024/', 'https://neurips.cc/Conferences/2024/CallForWorkshops#main', 'https://iticse.acm.org/2024/call-for-tips-techniques-and-courseware/', 'https://neurips.cc/Conferences/2024/CallForEthicsReviewers', 'https://www.sigarch.org/call-contributions/seed-2024-wild-and-emerging-ideas-wei/', 'https://neurips.cc/Conferences/2024/CallForEthicsReviewers#', 'https://www.sigarch.org/call-participation/memory-centric-computing-systems-tutorial-micro-2024/', 'https://blog.neurips.cc/2024/04/15/announcing-the-neurips-2024-call-for-tutorials/#mobile-menu', 'https://www.sigarch.org/call-contributions/micro-2024-call-for-workshops-tutorials/', 'https://crypto.iacr.org/2024/callforaffiliated.php', 'https://sigcse.org/news/2024-08-Call-for-nominations-for-the-SIGCSE-Board.html#', 'https://2024.sigmod.org/calls_papers_inclusion_and_diversity.shtml', 'https://crypto.iacr.org/2024/callforartifacts.php', 'https://iclr.cc/Conferences/2024/CallForPapers', 'https://neurips.cc/Conferences/2024/CallforSocials#child-menu', 'https://neurips.cc/Conferences/2024/CallForCompetitions#child-menu', 'https://www.sigarch.org/call-participation/fpga-2024/', 'https://neurips.cc/Conferences/2024/CallforHighSchoolProjects#', 'https://iticse.acm.org/2024/call-for-working-groups/', 'https://www.sigarch.org/call-contributions/ispass-2024-call-for-posters/', 'https://www.sigarch.org/call-contributions/cams-2024-the-2nd-workshop-on-computer-architecture-modeling-and-simulation/', 'https://www.sigarch.org/call-participation/asplos-2024/', 'https://www.sigarch.org/call-contributions/workshop-on-hot-topics-in-system-infrastructure-hotinfra-sosp-2024/', 'https://neurips.cc/Conferences/2024/CallForCompetitions#main', 'https://tcc.iacr.org/2024/callforpapers.php', 'https://2024.sigmod.org/calls_sigmod_tutorials.shtml', 'https://www.sigarch.org/call-contributions/pact-2024-call-for-workshops-tutorials/', 'https://www.aies-conference.com/2024/call-for-papers-students/', 'https://www.sigops.org/2024/call-for-participation-apsys-2024/', 'https://www.sigarch.org/call-contributions/hardware-and-architectural-support-for-security-and-privacy-hasp-2024/', 'https://neurips.cc/Conferences/2024/CallForExpo', 'https://kdd2024.kdd.org/call-for-award-nominations/', 'https://www.sigarch.org/call-participation/ispass-2024/', 'https://www.sigarch.org/call-contributions/esweek-2024/', 'https://2024.sigmod.org/calls_workshops.shtml', 'https://2024.sigmod.org/calls_papers_pods_research.shtml', 'https://blog.neurips.cc/2024/03/03/neurips-2024-call-for-competitions/#mobile-menu', 'https://www.sigarch.org/call-contributions/iiswc-2024-2/', 'https://neurips.cc/Conferences/2024/CallForPapers', 'https://blog.neurips.cc/2024/03/03/neurips-2024-call-for-competitions/', 'https://www.sigarch.org/call-participation/isfpga-2024/', 'https://iticse.acm.org/2024/call-for-panels/', 'https://www.sigarch.org/call-participation/isca-2024-call-for-workshops-tutorials/', 'https://blog.neurips.cc/2024/04/15/announcing-the-neurips-2024-call-for-tutorials/#content', 'https://iclr.cc/Conferences/2024/CallForBlogPosts', 'https://www.sigops.org/2024/call-for-participation-apsys-2024/#content', 'https://www.sigarch.org/call-contributions/isca-2024-industry-track/', 'https://2024.sigmod.org/calls_industrial_track_papers.shtml', 'https://neurips.cc/Conferences/2024/CallForTutorials#child-menu', 'https://2024.sigmod.org/calls_papers_important_dates.shtml', 'https://iticse.acm.org/2024/call-for-papers/', 'https://www.sigarch.org/call-contributions/hpca-2024-industry-track/', 'https://neurips.cc/Conferences/2024/CallForExpo#', 'https://neurips.cc/Conferences/2024/CallForExpo#main', 'https://www.sigarch.org/call-participation/iiswc-2024/', 'https://neurips.cc/Conferences/2024/CallForWorkshops#', 'https://www.sigarch.org/call-contributions/call-for-papers-arc-lg2024-new-approaches-for-addressing-the-computing-requirements-of-llms-and-gnns/', 'https://www.sigarch.org/call-participation/isca-2024-buenos-aires-argentina-june-29-july-3/', 'https://www.sigarch.org/call-contributions/hpca-2024-call-for-workshops-tutorials/', 'https://neurips.cc/Conferences/2024/CallForDatasetsBenchmarks#', 'https://www.sigarch.org/call-contributions/ieee-micro-special-issue-on-top-picks-from-the-2024-computer-architecture-conferences/', 'https://www.sigarch.org/call-participation/nvmw-2024/', 'https://www.sigarch.org/call-contributions/fpga-2024/', 'https://iclr.cc/Conferences/2024/CallForWorkshops', 'https://2024.sigmod.org/calls_sigmod_demos.shtml', 'https://nips.cc/Conferences/2024/CallForPapers', 'https://neurips.cc/Conferences/2024/CallForTutorials#main', 'https://blog.neurips.cc/2024/04/15/announcing-the-neurips-2024-call-for-tutorials/#header', 'https://neurips.cc/Conferences/2024/CallForExpo#child-menu', 'https://www.sigarch.org/call-contributions/paw-atm-2024-parallel-applications-workshop-alternatives-to-mpix/', 'https://www.sigarch.org/call-contributions/isc-high-performance-2024-call-for-tutorials-2/', 'https://neurips.cc/Conferences/2024/CallforSocials', 'https://www.sigarch.org/call-participation/arcs-2024/', 'https://neurips.cc/Conferences/2024/CallforSocials#', 'https://www.sigarch.org/call-contributions/hpca-2024/', 'https://neurips.cc/Conferences/2024/CallForEthicsReviewers#main', 'https://blog.neurips.cc/2024/03/03/neurips-2024-call-for-competitions/#', 'https://www.sigarch.org/call-contributions/wddsa-micro-2024/', 'https://neurips.cc/Conferences/2024/CallForAffinityEvents#main', 'https://neurips.cc/Conferences/2024/CallForDatasetsBenchmarks#main', 'https://neurips.cc/Conferences/2024/CallforHighSchoolProjects#main', 'https://kdd2024.kdd.org/applied-data-science-ads-track-call-for-papers/', 'https://blog.neurips.cc/2024/03/03/neurips-2024-call-for-competitions/#content', 'https://www.sigarch.org/call-contributions/phd-forum-micro-2024/', 'https://www.sigarch.org/call-contributions/nocarc-micro-2024/', 'https://www.aies-conference.com/2024/call-for-student-travel-awards/', 'https://asiacrypt.iacr.org/2024/callforpapers.php', 'https://www.sigarch.org/call-contributions/acm-international-symposium-on-memory-management-ismm-2024/', 'https://neurips.cc/Conferences/2024/CallForCreativeAI#main', 'https://www.sigarch.org/call-contributions/arcs-2024-cfp-hpc-challenges-for-sustainable-computing/', 'https://www.sigarch.org/call-contributions/ispass-2024/', 'https://kdd2024.kdd.org/call-for-undergraduate-consortium/', 'https://blog.neurips.cc/2024/03/03/neurips-2024-call-for-competitions/#header', 'https://www.sigarch.org/call-contributions/systor-2024/', 'https://neurips.cc/Conferences/2024/CallforSocials#main', 'https://neurips.cc/Conferences/2024/CallForAffinityEvents#', 'https://neurips.cc/Conferences/2024/CallForDatasetsBenchmarks#child-menu', 'https://www.sigarch.org/call-contributions/roboarch-micro-2024/', 'https://neurips.cc/Conferences/2024/CallForWorkshops', 'https://www.sigarch.org/call-participation/call-for-participation-biosys-2024-in-conjunction-with-asplos-2024/', 'https://www.sigarch.org/call-participation/iccd-2024/', 'https://www.sigarch.org/other-announcements/call-for-nominations-micro-test-of-time-award-2024/#', 'https://www.aies-conference.com/2024/call-for-papers/', 'https://neurips.cc/Conferences/2024/CallForCompetitions', 'https://neurips.cc/Conferences/2024/CallForTutorials', 'https://www.sigarch.org/call-participation/esweek-2024/', 'https://www.sigarch.org/call-contributions/iiswc-2024/', 'https://kdd2024.kdd.org/call-for-workshop-proposals/', 'https://sigcse.org/news/2024-08-Call-for-nominations-for-the-SIGCSE-Board.html#Top', 'https://www.sigarch.org/call-contributions/fccm-2024/', 'https://blog.neurips.cc/2024/04/15/announcing-the-neurips-2024-call-for-tutorials/', 'https://kdd2024.kdd.org/call-for-student-travel-award-applications/', 'https://www.sigarch.org/call-participation/memory-centric-computing-systems-tutorial-micro-2024/#', 'https://chameleoncloud.org/blog/2024/09/25/call-for-presentations-community-workshop-on-practical-reproducibility-in-hpc/', 'https://neurips.cc/Conferences/2024/CallForTutorials#', 'https://www.sigarch.org/call-contributions/iccd-2024-call-for-papers/', 'https://www.sigarch.org/call-contributions/isca-2024/', 'https://www.sigarch.org/call-contributions/workshop-on-accelerated-machine-learning-hipeac-2024/', 'https://www.sigarch.org/call-participation/esweek-2024/#', 'https://www.sigarch.org/call-contributions/asap-2024/', 'https://2024.sigmod.org/calls_awards.docx', 'https://neurips.cc/Conferences/2024/CallForPapers#child-menu', 'https://neurips.cc/Conferences/2024/CallForEthicsReviewers#child-menu', 'https://www.sigarch.org/call-contributions/pact-2024/', 'https://www.sigarch.org/other-announcements/call-for-nominations-micro-test-of-time-award-2024/', 'https://www.sigarch.org/call-contributions/heart-2024/', 'https://www.sigarch.org/call-contributions/heterogeneous-high-performance-reconfigurable-computing-h2rc-2024/', 'https://neurips.cc/Conferences/2024/CallforHighSchoolProjects', 'https://www.sigarch.org/call-contributions/cfp-deadline-extended-17-nov-2023-6th-accml-workshop-at-hipeac-2024/', 'https://neurips.cc/Conferences/2024/CallForCreativeAI#', 'https://kdd2024.kdd.org/call-for-lecture-style-tutorials/', 'https://www.sigarch.org/call-participation/iiswc-2024/#', 'https://iclr.cc/Conferences/2024/CallForTinyPapers', 'https://www.sigarch.org/call-contributions/ieee-micro-special-issue-on-top-picks-from-the-2024-computer-architecture-conferences/#', 'https://kdd2024.kdd.org/call-for-phd-consortium/', 'https://www.sigarch.org/call-contributions/nsf-workshop-on-quantum-operating-systems-and-real-time-control-sosp-2024-and-micro-2024/', 'https://www.sigarch.org/call-contributions/hipc-2024/', 'https://neurips.cc/Conferences/2024/CallforHighSchoolProjects#child-menu', 'https://neurips.cc/Conferences/2024/CallForAffinityEvents', 'https://kdd2024.kdd.org/call-for-hands-on-tutorials/'}\n",
      "\n",
      "Number of common elements: 2\n",
      "\n",
      "Number of different elements: 199\n",
      "\n"
     ]
    }
   ],
   "source": [
    "# Find common elements (intersection)\n",
    "common_elements_1 = List_set_1.intersection(url_set)\n",
    "\n",
    "# Find elements only in Link_set (difference)\n",
    "only_in_link_set_1 = List_set_1.difference(url_set)\n",
    "\n",
    "# Find elements only in URL_set (difference)\n",
    "only_in_url_set_1 = url_set.difference(List_set_1)\n",
    "\n",
    "# Display results\n",
    "print(f\"Number of common elements: {len(common_elements_1)}\")\n",
    "print(f\"Common elements: {common_elements_1}\")\n",
    "print(\"\")\n",
    "print(f\"Number only in List_set_1: {len(only_in_link_set_1)}\")\n",
    "print(f\"Only in List_set_1: {only_in_link_set_1}\")\n",
    "print(\"\")\n",
    "print(f\"Number only in URL_set: {len(only_in_url_set_1)}\")\n",
    "print(f\"Only in URL_set: {only_in_url_set_1}\")\n",
    "print(\"\")\n",
    "\n",
    "# Count of same and different elements\n",
    "print(f\"Number of common elements: {len(common_elements_1)}\")\n",
    "print(\"\")\n",
    "print(f\"Number of different elements: {len(only_in_link_set_1) + len(only_in_url_set_1)}\")\n",
    "print(\"\")"
   ]
  },
  {
   "cell_type": "code",
   "execution_count": 15,
   "id": "62735a9e",
   "metadata": {},
   "outputs": [
    {
     "name": "stdout",
     "output_type": "stream",
     "text": [
      "169\n"
     ]
    }
   ],
   "source": [
    "print(len(url_set))\n"
   ]
  },
  {
   "cell_type": "code",
   "execution_count": 19,
   "id": "590f6c8e",
   "metadata": {},
   "outputs": [
    {
     "name": "stdout",
     "output_type": "stream",
     "text": [
      "Number of unique URLs with status 1: 21\n"
     ]
    }
   ],
   "source": [
    "csv_data_scrape_copy = csv_data_scrape.copy()\n",
    "csv_data_scrape_copy['Status'] = csv_data_scrape_copy['Status'].astype(int)\n",
    "\n",
    "\n",
    "\n",
    "# Filter the DataFrame for rows where status is 1\n",
    "filtered_df = csv_data_scrape_copy[csv_data_scrape_copy['Status'] == 1]\n",
    "\n",
    "# Get unique URLs from the filtered DataFrame\n",
    "unique_urls = filtered_df['URL'].nunique()\n",
    "\n",
    "# Print the number of unique URLs with status 1\n",
    "print(f\"Number of unique URLs with status 1: {unique_urls}\")"
   ]
  },
  {
   "cell_type": "code",
   "execution_count": 18,
   "id": "4e2792c6",
   "metadata": {},
   "outputs": [
    {
     "name": "stdout",
     "output_type": "stream",
     "text": [
      "URL                     object\n",
      "Status                  object\n",
      "Conflict of Interest    object\n",
      "dtype: object\n"
     ]
    }
   ],
   "source": [
    "print(csv_data_scrape.dtypes)"
   ]
  },
  {
   "cell_type": "code",
   "execution_count": 21,
   "id": "3be17f21",
   "metadata": {},
   "outputs": [
    {
     "name": "stdout",
     "output_type": "stream",
     "text": [
      "Number of unique link with conflict yes: 31\n"
     ]
    }
   ],
   "source": [
    "csv_data_copy = csv_data.copy()\n",
    "\n",
    "# Filter the DataFrame for rows where status is 1\n",
    "conflict_df = csv_data_copy[csv_data_copy['Conflict'] == 'yes'] \n",
    "\n",
    "# Get unique URLs from the filtered DataFrame\n",
    "unique_urls_1 = conflict_df['Link'].nunique()\n",
    "\n",
    "# Print the number of unique URLs with status 1\n",
    "print(f\"Number of unique link with conflict yes: {unique_urls_1}\")\n"
   ]
  },
  {
   "cell_type": "code",
   "execution_count": null,
   "id": "9aeef244",
   "metadata": {},
   "outputs": [],
   "source": []
  }
 ],
 "metadata": {
  "kernelspec": {
   "display_name": "Python 3 (ipykernel)",
   "language": "python",
   "name": "python3"
  },
  "language_info": {
   "codemirror_mode": {
    "name": "ipython",
    "version": 3
   },
   "file_extension": ".py",
   "mimetype": "text/x-python",
   "name": "python",
   "nbconvert_exporter": "python",
   "pygments_lexer": "ipython3",
   "version": "3.9.7"
  }
 },
 "nbformat": 4,
 "nbformat_minor": 5
}
